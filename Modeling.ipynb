{
  "nbformat": 4,
  "nbformat_minor": 5,
  "metadata": {
    "kernelspec": {
      "display_name": "Python 3 (ipykernel)",
      "language": "python",
      "name": "python3"
    },
    "language_info": {
      "codemirror_mode": {
        "name": "ipython",
        "version": 3
      },
      "file_extension": ".py",
      "mimetype": "text/x-python",
      "name": "python",
      "nbconvert_exporter": "python",
      "pygments_lexer": "ipython3",
      "version": "3.9.0"
    },
    "colab": {
      "name": "Modeling.ipynb",
      "provenance": [],
      "collapsed_sections": []
    },
    "accelerator": "GPU"
  },
  "cells": [
    {
      "cell_type": "markdown",
      "metadata": {
        "id": "04b4d979"
      },
      "source": [
        "<h1> Imports </h1>"
      ],
      "id": "04b4d979"
    },
    {
      "cell_type": "code",
      "metadata": {
        "colab": {
          "base_uri": "https://localhost:8080/"
        },
        "id": "bd79bd36",
        "outputId": "dec94771-7d68-4a30-eb6c-5dc5129d5293"
      },
      "source": [
        "from tensorflow.keras.layers import Dense, Conv2D, MaxPooling2D, Flatten, Dropout,BatchNormalization, Activation\n",
        "from tensorflow.keras.preprocessing.image import ImageDataGenerator\n",
        "from tensorflow.keras.preprocessing import image\n",
        "from tensorflow.keras.optimizers import RMSprop\n",
        "from tensorflow.keras.models import Sequential\n",
        "from sklearn.metrics import confusion_matrix\n",
        "from matplotlib.colors import ListedColormap\n",
        "from tensorflow.keras import layers\n",
        "from sklearn.manifold import TSNE\n",
        "import matplotlib.pyplot as plt\n",
        "from keras import backend as K\n",
        "from google.colab import drive\n",
        "drive.mount('/content/drive')\n",
        "from tensorflow import keras\n",
        "from seaborn import heatmap\n",
        "from matplotlib import cm\n",
        "import tensorflow as tf\n",
        "import pandas as pd\n",
        "import numpy as np\n",
        "import itertools\n",
        "import random\n",
        "import torch\n",
        "import cv2\n",
        "import os"
      ],
      "id": "bd79bd36",
      "execution_count": 1,
      "outputs": [
        {
          "output_type": "stream",
          "name": "stdout",
          "text": [
            "Mounted at /content/drive\n"
          ]
        }
      ]
    },
    {
      "cell_type": "markdown",
      "metadata": {
        "id": "a141f6ab"
      },
      "source": [
        "<h1> Read Train and Test sets </h1>"
      ],
      "id": "a141f6ab"
    },
    {
      "cell_type": "code",
      "metadata": {
        "scrolled": true,
        "id": "769ec571"
      },
      "source": [
        "# Rescale = ImageDataGenerator(rescale=1./255,\n",
        "#                             rotation_range=40,horizontal_flip=True,zoom_range=0.2,height_shift_range=0.2,width_shift_range=0.2,fill_mode='nearest')\n",
        "# train_ds =Rescale.flow_from_directory('drive/MyDrive/Splited_Data_Sample/train',\n",
        "#                                           target_size=(150,150),\n",
        "#                                           batch_size=25,\n",
        "#                                           class_mode='categorical',\n",
        "#                                           shuffle=True)\n",
        "\n",
        "\n",
        "# test_ds =Rescale.flow_from_directory('drive/MyDrive/Splited_Data_Sample/train',\n",
        "#                                           target_size=(150,150),\n",
        "#                                           batch_size=25,\n",
        "#                                           class_mode='categorical', shuffle=True)\n",
        "\n",
        "# val_ds =Rescale.flow_from_directory('drive/MyDrive/Splited_Data_Sample/val',\n",
        "#                                           target_size=(150,150),\n",
        "#                                           batch_size=25,\n",
        "#                                           class_mode='categorical', shuffle=True)"
      ],
      "id": "769ec571",
      "execution_count": 2,
      "outputs": []
    },
    {
      "cell_type": "code",
      "metadata": {
        "id": "03ae0ee7"
      },
      "source": [
        "def plot_perfomance(history_num):\n",
        "    plt.figure(figsize=(14,4))\n",
        "    plt.subplot(1,2,1)\n",
        "    plt.plot(history_num.history['loss'],'r')\n",
        "    plt.plot(history_num.history['val_loss'],'b')\n",
        "    plt.title('Loss',fontsize=14)\n",
        "    plt.xlabel('Epochs',fontsize=14)\n",
        "    plt.legend(('loss','val_loss'))\n",
        "    plt.grid()\n",
        "\n",
        "    plt.subplot(1,2,2)\n",
        "    plt.plot(history_num.history['accuracy'],'r')\n",
        "    plt.plot(history_num.history['val_accuracy'],'b')\n",
        "    plt.ylim([0, 1])\n",
        "    plt.legend(('accuracy','val_accuracy'))\n",
        "    plt.title('Accuracy',fontsize=12)\n",
        "    plt.xlabel('Epochs',fontsize=12)\n",
        "    plt.grid()"
      ],
      "id": "03ae0ee7",
      "execution_count": 3,
      "outputs": []
    },
    {
      "cell_type": "code",
      "metadata": {
        "colab": {
          "base_uri": "https://localhost:8080/"
        },
        "id": "tLZC51Tx_4VL",
        "outputId": "d62719db-fb3c-4b99-8fff-9bd52b049fbc"
      },
      "source": [
        "\n",
        "# dimensions of our images.\n",
        "img_width, img_height = 150, 150\n",
        "\n",
        "train_data_dir = 'drive/MyDrive/Splited_Data_Sample/train'\n",
        "validation_data_dir = 'drive/MyDrive/Splited_Data_Sample/val'\n",
        "nb_train_samples = 2000\n",
        "nb_validation_samples = 800\n",
        "epochs = 50\n",
        "batch_size = 16\n",
        "\n",
        "if K.image_data_format() == 'channels_first':\n",
        "    input_shape = (3, img_width, img_height)\n",
        "else:\n",
        "    input_shape = (img_width, img_height, 3)\n",
        "\n",
        "vgg_model = tf.keras.applications.VGG19(\n",
        "           include_top=False, input_shape=((150, 150, 3)))\n",
        "\n",
        "model = Sequential(vgg_model)\n",
        "model.add(Flatten())\n",
        "model.add(Dense(256, activation='relu'))\n",
        "model.add(Dropout(0.5))\n",
        "model.add(Dense(12, activation='softmax'))\n",
        "model.summary()\n",
        "\n",
        "loss_kind = 'categorical_crossentropy'\n",
        "opt = tf.keras.optimizers.SGD(learning_rate=0.0001, momentum=0.9)\n",
        "\n",
        "model.compile(loss=loss_kind,\n",
        "              optimizer=opt,\n",
        "              metrics=['accuracy'])\n",
        "\n",
        "# this is the augmentation configuration we will use for training\n",
        "train_datagen = ImageDataGenerator(\n",
        "    rescale=1. / 255,\n",
        "    shear_range=0.2,\n",
        "    zoom_range=0.2,\n",
        "    horizontal_flip=True)\n",
        "\n",
        "# this is the augmentation configuration we will use for testing:\n",
        "# only rescaling\n",
        "test_datagen = ImageDataGenerator(rescale=1. / 255)\n",
        "\n",
        "train_generator = train_datagen.flow_from_directory(\n",
        "    train_data_dir,\n",
        "    target_size=(img_width, img_height),\n",
        "    batch_size=batch_size,\n",
        "    class_mode='categorical')\n",
        "\n",
        "validation_generator = test_datagen.flow_from_directory(\n",
        "    validation_data_dir,\n",
        "    target_size=(img_width, img_height),\n",
        "    batch_size=batch_size,\n",
        "    class_mode='categorical')\n",
        "\n"
      ],
      "id": "tLZC51Tx_4VL",
      "execution_count": 6,
      "outputs": [
        {
          "output_type": "stream",
          "name": "stdout",
          "text": [
            "Model: \"sequential_1\"\n",
            "_________________________________________________________________\n",
            " Layer (type)                Output Shape              Param #   \n",
            "=================================================================\n",
            " vgg19 (Functional)          (None, 4, 4, 512)         20024384  \n",
            "                                                                 \n",
            " flatten_1 (Flatten)         (None, 8192)              0         \n",
            "                                                                 \n",
            " dense_2 (Dense)             (None, 256)               2097408   \n",
            "                                                                 \n",
            " dropout_1 (Dropout)         (None, 256)               0         \n",
            "                                                                 \n",
            " dense_3 (Dense)             (None, 12)                3084      \n",
            "                                                                 \n",
            "=================================================================\n",
            "Total params: 22,124,876\n",
            "Trainable params: 22,124,876\n",
            "Non-trainable params: 0\n",
            "_________________________________________________________________\n",
            "Found 4559 images belonging to 12 classes.\n",
            "Found 1299 images belonging to 12 classes.\n"
          ]
        }
      ]
    },
    {
      "cell_type": "code",
      "metadata": {
        "colab": {
          "base_uri": "https://localhost:8080/"
        },
        "id": "--UgCq_lRwTV",
        "outputId": "443537dd-9c44-4f77-e221-c47543532404"
      },
      "source": [
        "\n",
        "history = model.fit_generator(\n",
        "    train_generator,\n",
        "    steps_per_epoch=30,\n",
        "    epochs=100,\n",
        "    validation_data=validation_generator,\n",
        "    validation_steps=30)\n",
        "model.save_weights('weights.h5')"
      ],
      "id": "--UgCq_lRwTV",
      "execution_count": 7,
      "outputs": [
        {
          "output_type": "stream",
          "name": "stderr",
          "text": [
            "/usr/local/lib/python3.7/dist-packages/ipykernel_launcher.py:7: UserWarning: `Model.fit_generator` is deprecated and will be removed in a future version. Please use `Model.fit`, which supports generators.\n",
            "  import sys\n"
          ]
        },
        {
          "output_type": "stream",
          "name": "stdout",
          "text": [
            "Epoch 1/100\n",
            "30/30 [==============================] - 282s 9s/step - loss: 2.6707 - accuracy: 0.1167 - val_loss: 2.1917 - val_accuracy: 0.2125\n",
            "Epoch 2/100\n",
            "30/30 [==============================] - 217s 7s/step - loss: 2.2723 - accuracy: 0.2250 - val_loss: 2.1218 - val_accuracy: 0.2583\n",
            "Epoch 3/100\n",
            "30/30 [==============================] - 173s 6s/step - loss: 2.1970 - accuracy: 0.2708 - val_loss: 2.0404 - val_accuracy: 0.2979\n",
            "Epoch 4/100\n",
            "30/30 [==============================] - 140s 5s/step - loss: 2.1075 - accuracy: 0.2750 - val_loss: 1.9399 - val_accuracy: 0.4104\n",
            "Epoch 5/100\n",
            "30/30 [==============================] - 106s 4s/step - loss: 1.9564 - accuracy: 0.3562 - val_loss: 1.8000 - val_accuracy: 0.4167\n",
            "Epoch 6/100\n",
            "30/30 [==============================] - 128s 4s/step - loss: 1.9177 - accuracy: 0.3695 - val_loss: 1.6328 - val_accuracy: 0.4708\n",
            "Epoch 7/100\n",
            "30/30 [==============================] - 85s 3s/step - loss: 1.7602 - accuracy: 0.4208 - val_loss: 1.5478 - val_accuracy: 0.4688\n",
            "Epoch 8/100\n",
            "30/30 [==============================] - 68s 2s/step - loss: 1.6225 - accuracy: 0.4708 - val_loss: 1.4397 - val_accuracy: 0.4938\n",
            "Epoch 9/100\n",
            "30/30 [==============================] - 59s 2s/step - loss: 1.5972 - accuracy: 0.4509 - val_loss: 1.4134 - val_accuracy: 0.5292\n",
            "Epoch 10/100\n",
            "30/30 [==============================] - 56s 2s/step - loss: 1.5260 - accuracy: 0.4896 - val_loss: 1.2984 - val_accuracy: 0.5458\n",
            "Epoch 11/100\n",
            "30/30 [==============================] - 71s 2s/step - loss: 1.4872 - accuracy: 0.4854 - val_loss: 1.3411 - val_accuracy: 0.5333\n",
            "Epoch 12/100\n",
            "30/30 [==============================] - 41s 1s/step - loss: 1.5193 - accuracy: 0.4854 - val_loss: 1.2934 - val_accuracy: 0.5979\n",
            "Epoch 13/100\n",
            "30/30 [==============================] - 55s 2s/step - loss: 1.2776 - accuracy: 0.5896 - val_loss: 1.2308 - val_accuracy: 0.5708\n",
            "Epoch 14/100\n",
            "30/30 [==============================] - 34s 1s/step - loss: 1.3587 - accuracy: 0.5354 - val_loss: 1.2574 - val_accuracy: 0.5979\n",
            "Epoch 15/100\n",
            "30/30 [==============================] - 49s 2s/step - loss: 1.2551 - accuracy: 0.5750 - val_loss: 1.1281 - val_accuracy: 0.6417\n",
            "Epoch 16/100\n",
            "30/30 [==============================] - 40s 1s/step - loss: 1.2425 - accuracy: 0.6000 - val_loss: 1.2737 - val_accuracy: 0.5562\n",
            "Epoch 17/100\n",
            "30/30 [==============================] - 29s 992ms/step - loss: 1.2083 - accuracy: 0.5896 - val_loss: 1.0616 - val_accuracy: 0.6604\n",
            "Epoch 18/100\n",
            "30/30 [==============================] - 28s 963ms/step - loss: 1.1842 - accuracy: 0.6208 - val_loss: 0.9958 - val_accuracy: 0.6625\n",
            "Epoch 19/100\n",
            "30/30 [==============================] - 34s 1s/step - loss: 0.9991 - accuracy: 0.6555 - val_loss: 1.0887 - val_accuracy: 0.6292\n",
            "Epoch 20/100\n",
            "30/30 [==============================] - 23s 756ms/step - loss: 1.0375 - accuracy: 0.6583 - val_loss: 1.0337 - val_accuracy: 0.6521\n",
            "Epoch 21/100\n",
            "30/30 [==============================] - 26s 873ms/step - loss: 1.0734 - accuracy: 0.6167 - val_loss: 0.9897 - val_accuracy: 0.6792\n",
            "Epoch 22/100\n",
            "30/30 [==============================] - 19s 603ms/step - loss: 0.9331 - accuracy: 0.7021 - val_loss: 0.9415 - val_accuracy: 0.7063\n",
            "Epoch 23/100\n",
            "30/30 [==============================] - 22s 732ms/step - loss: 1.0028 - accuracy: 0.6827 - val_loss: 1.0087 - val_accuracy: 0.6854\n",
            "Epoch 24/100\n",
            "30/30 [==============================] - 19s 653ms/step - loss: 1.0336 - accuracy: 0.6771 - val_loss: 0.9838 - val_accuracy: 0.6687\n",
            "Epoch 25/100\n",
            "30/30 [==============================] - 19s 642ms/step - loss: 0.8220 - accuracy: 0.7333 - val_loss: 0.9990 - val_accuracy: 0.6687\n",
            "Epoch 26/100\n",
            "30/30 [==============================] - 18s 581ms/step - loss: 1.0113 - accuracy: 0.6958 - val_loss: 1.1798 - val_accuracy: 0.6292\n",
            "Epoch 27/100\n",
            "30/30 [==============================] - 18s 616ms/step - loss: 0.8634 - accuracy: 0.7312 - val_loss: 0.8696 - val_accuracy: 0.7000\n",
            "Epoch 28/100\n",
            "30/30 [==============================] - 19s 634ms/step - loss: 0.9623 - accuracy: 0.7042 - val_loss: 1.0218 - val_accuracy: 0.6417\n",
            "Epoch 29/100\n",
            "30/30 [==============================] - 18s 599ms/step - loss: 0.9666 - accuracy: 0.6917 - val_loss: 0.9153 - val_accuracy: 0.6958\n",
            "Epoch 30/100\n",
            "30/30 [==============================] - 16s 536ms/step - loss: 0.8578 - accuracy: 0.7125 - val_loss: 0.9516 - val_accuracy: 0.7021\n",
            "Epoch 31/100\n",
            "30/30 [==============================] - 17s 554ms/step - loss: 0.7898 - accuracy: 0.7333 - val_loss: 1.1218 - val_accuracy: 0.6271\n",
            "Epoch 32/100\n",
            "30/30 [==============================] - 17s 555ms/step - loss: 0.9166 - accuracy: 0.7083 - val_loss: 1.0289 - val_accuracy: 0.6833\n",
            "Epoch 33/100\n",
            "30/30 [==============================] - 19s 609ms/step - loss: 0.8553 - accuracy: 0.7479 - val_loss: 0.7562 - val_accuracy: 0.7542\n",
            "Epoch 34/100\n",
            "30/30 [==============================] - 14s 471ms/step - loss: 0.8873 - accuracy: 0.7229 - val_loss: 0.8452 - val_accuracy: 0.7250\n",
            "Epoch 35/100\n",
            "30/30 [==============================] - 15s 493ms/step - loss: 0.7565 - accuracy: 0.7500 - val_loss: 0.8246 - val_accuracy: 0.7417\n",
            "Epoch 36/100\n",
            "30/30 [==============================] - 14s 465ms/step - loss: 0.8564 - accuracy: 0.7333 - val_loss: 1.0141 - val_accuracy: 0.6833\n",
            "Epoch 37/100\n",
            "30/30 [==============================] - 14s 460ms/step - loss: 0.8185 - accuracy: 0.7521 - val_loss: 0.9561 - val_accuracy: 0.7000\n",
            "Epoch 38/100\n",
            "30/30 [==============================] - 14s 474ms/step - loss: 0.8150 - accuracy: 0.7354 - val_loss: 0.8466 - val_accuracy: 0.7333\n",
            "Epoch 39/100\n",
            "30/30 [==============================] - 14s 472ms/step - loss: 0.8121 - accuracy: 0.7312 - val_loss: 0.8661 - val_accuracy: 0.7208\n",
            "Epoch 40/100\n",
            "30/30 [==============================] - 15s 503ms/step - loss: 0.8586 - accuracy: 0.7188 - val_loss: 0.8141 - val_accuracy: 0.7458\n",
            "Epoch 41/100\n",
            "30/30 [==============================] - 14s 452ms/step - loss: 0.7704 - accuracy: 0.7521 - val_loss: 1.1208 - val_accuracy: 0.6875\n",
            "Epoch 42/100\n",
            "30/30 [==============================] - 13s 446ms/step - loss: 0.7236 - accuracy: 0.7583 - val_loss: 1.1680 - val_accuracy: 0.6750\n",
            "Epoch 43/100\n",
            "30/30 [==============================] - 13s 436ms/step - loss: 0.7647 - accuracy: 0.7583 - val_loss: 0.6194 - val_accuracy: 0.7937\n",
            "Epoch 44/100\n",
            "30/30 [==============================] - 14s 462ms/step - loss: 0.6491 - accuracy: 0.7771 - val_loss: 0.7491 - val_accuracy: 0.7708\n",
            "Epoch 45/100\n",
            "30/30 [==============================] - 14s 468ms/step - loss: 0.6221 - accuracy: 0.7854 - val_loss: 0.6307 - val_accuracy: 0.8000\n",
            "Epoch 46/100\n",
            "30/30 [==============================] - 14s 458ms/step - loss: 0.6050 - accuracy: 0.8125 - val_loss: 0.9213 - val_accuracy: 0.7271\n",
            "Epoch 47/100\n",
            "30/30 [==============================] - 14s 448ms/step - loss: 0.7378 - accuracy: 0.7583 - val_loss: 0.6275 - val_accuracy: 0.8042\n",
            "Epoch 48/100\n",
            "30/30 [==============================] - 14s 454ms/step - loss: 0.6544 - accuracy: 0.7771 - val_loss: 0.7730 - val_accuracy: 0.7729\n",
            "Epoch 49/100\n",
            "30/30 [==============================] - 13s 447ms/step - loss: 0.6354 - accuracy: 0.7833 - val_loss: 0.6538 - val_accuracy: 0.8062\n",
            "Epoch 50/100\n",
            "30/30 [==============================] - 14s 447ms/step - loss: 0.5912 - accuracy: 0.8000 - val_loss: 0.7469 - val_accuracy: 0.7542\n",
            "Epoch 51/100\n",
            "30/30 [==============================] - 13s 440ms/step - loss: 0.6809 - accuracy: 0.7937 - val_loss: 1.0500 - val_accuracy: 0.7063\n",
            "Epoch 52/100\n",
            "30/30 [==============================] - 13s 445ms/step - loss: 0.7040 - accuracy: 0.7683 - val_loss: 0.7762 - val_accuracy: 0.7521\n",
            "Epoch 53/100\n",
            "30/30 [==============================] - 13s 446ms/step - loss: 0.8085 - accuracy: 0.7208 - val_loss: 0.8843 - val_accuracy: 0.7063\n",
            "Epoch 54/100\n",
            "30/30 [==============================] - 14s 452ms/step - loss: 0.6823 - accuracy: 0.7708 - val_loss: 0.8314 - val_accuracy: 0.7500\n",
            "Epoch 55/100\n",
            "30/30 [==============================] - 13s 449ms/step - loss: 0.6677 - accuracy: 0.7833 - val_loss: 0.8633 - val_accuracy: 0.7354\n",
            "Epoch 56/100\n",
            "30/30 [==============================] - 13s 448ms/step - loss: 0.6192 - accuracy: 0.8042 - val_loss: 0.7250 - val_accuracy: 0.7875\n",
            "Epoch 57/100\n",
            "30/30 [==============================] - 13s 437ms/step - loss: 0.6423 - accuracy: 0.7917 - val_loss: 0.6273 - val_accuracy: 0.8188\n",
            "Epoch 58/100\n",
            "30/30 [==============================] - 13s 439ms/step - loss: 0.6815 - accuracy: 0.7833 - val_loss: 0.9475 - val_accuracy: 0.7104\n",
            "Epoch 59/100\n",
            "30/30 [==============================] - 13s 441ms/step - loss: 0.6447 - accuracy: 0.8021 - val_loss: 0.7113 - val_accuracy: 0.7833\n",
            "Epoch 60/100\n",
            "30/30 [==============================] - 13s 439ms/step - loss: 0.5924 - accuracy: 0.8167 - val_loss: 1.0264 - val_accuracy: 0.6958\n",
            "Epoch 61/100\n",
            "30/30 [==============================] - 13s 438ms/step - loss: 0.6191 - accuracy: 0.8225 - val_loss: 0.5797 - val_accuracy: 0.8125\n",
            "Epoch 62/100\n",
            "30/30 [==============================] - 14s 451ms/step - loss: 0.6121 - accuracy: 0.8000 - val_loss: 0.7975 - val_accuracy: 0.7542\n",
            "Epoch 63/100\n",
            "30/30 [==============================] - 13s 438ms/step - loss: 0.6887 - accuracy: 0.7646 - val_loss: 0.6214 - val_accuracy: 0.8250\n",
            "Epoch 64/100\n",
            "30/30 [==============================] - 13s 441ms/step - loss: 0.5335 - accuracy: 0.8250 - val_loss: 0.7585 - val_accuracy: 0.7646\n",
            "Epoch 65/100\n",
            "30/30 [==============================] - 13s 440ms/step - loss: 0.5386 - accuracy: 0.8229 - val_loss: 0.6192 - val_accuracy: 0.7958\n",
            "Epoch 66/100\n",
            "30/30 [==============================] - 13s 443ms/step - loss: 0.5529 - accuracy: 0.8330 - val_loss: 0.8021 - val_accuracy: 0.7354\n",
            "Epoch 67/100\n",
            "30/30 [==============================] - 13s 434ms/step - loss: 0.5979 - accuracy: 0.8083 - val_loss: 0.6573 - val_accuracy: 0.8021\n",
            "Epoch 68/100\n",
            "30/30 [==============================] - 13s 433ms/step - loss: 0.5890 - accuracy: 0.8146 - val_loss: 1.0585 - val_accuracy: 0.6979\n",
            "Epoch 69/100\n",
            "30/30 [==============================] - 13s 432ms/step - loss: 0.5318 - accuracy: 0.8438 - val_loss: 0.6480 - val_accuracy: 0.8021\n",
            "Epoch 70/100\n",
            "30/30 [==============================] - 13s 432ms/step - loss: 0.5337 - accuracy: 0.8229 - val_loss: 0.6751 - val_accuracy: 0.7792\n",
            "Epoch 71/100\n",
            "30/30 [==============================] - 13s 436ms/step - loss: 0.5434 - accuracy: 0.8333 - val_loss: 0.6860 - val_accuracy: 0.7979\n",
            "Epoch 72/100\n",
            "30/30 [==============================] - 13s 438ms/step - loss: 0.4757 - accuracy: 0.8562 - val_loss: 0.7486 - val_accuracy: 0.7688\n",
            "Epoch 73/100\n",
            "30/30 [==============================] - 13s 431ms/step - loss: 0.4213 - accuracy: 0.8687 - val_loss: 0.7482 - val_accuracy: 0.7958\n",
            "Epoch 74/100\n",
            "30/30 [==============================] - 13s 429ms/step - loss: 0.5098 - accuracy: 0.8271 - val_loss: 0.6765 - val_accuracy: 0.8021\n",
            "Epoch 75/100\n",
            "30/30 [==============================] - 13s 433ms/step - loss: 0.5899 - accuracy: 0.8125 - val_loss: 0.7436 - val_accuracy: 0.7750\n",
            "Epoch 76/100\n",
            "30/30 [==============================] - 14s 467ms/step - loss: 0.5428 - accuracy: 0.8163 - val_loss: 0.7894 - val_accuracy: 0.7583\n",
            "Epoch 77/100\n",
            "30/30 [==============================] - 13s 434ms/step - loss: 0.5416 - accuracy: 0.8104 - val_loss: 1.3079 - val_accuracy: 0.7063\n",
            "Epoch 78/100\n",
            "30/30 [==============================] - 13s 431ms/step - loss: 0.5312 - accuracy: 0.8396 - val_loss: 0.5621 - val_accuracy: 0.8229\n",
            "Epoch 79/100\n",
            "30/30 [==============================] - 13s 440ms/step - loss: 0.4862 - accuracy: 0.8375 - val_loss: 0.8154 - val_accuracy: 0.7583\n",
            "Epoch 80/100\n",
            "30/30 [==============================] - 13s 436ms/step - loss: 0.4649 - accuracy: 0.8625 - val_loss: 0.5762 - val_accuracy: 0.8146\n",
            "Epoch 81/100\n",
            "30/30 [==============================] - 13s 441ms/step - loss: 0.4895 - accuracy: 0.8354 - val_loss: 0.6684 - val_accuracy: 0.7875\n",
            "Epoch 82/100\n",
            "30/30 [==============================] - 13s 443ms/step - loss: 0.4558 - accuracy: 0.8583 - val_loss: 0.6505 - val_accuracy: 0.7937\n",
            "Epoch 83/100\n",
            "30/30 [==============================] - 13s 445ms/step - loss: 0.5362 - accuracy: 0.8288 - val_loss: 0.5181 - val_accuracy: 0.8396\n",
            "Epoch 84/100\n",
            "30/30 [==============================] - 13s 441ms/step - loss: 0.5518 - accuracy: 0.8271 - val_loss: 0.6055 - val_accuracy: 0.8146\n",
            "Epoch 85/100\n",
            "30/30 [==============================] - 13s 437ms/step - loss: 0.4490 - accuracy: 0.8288 - val_loss: 0.8379 - val_accuracy: 0.7646\n",
            "Epoch 86/100\n",
            "30/30 [==============================] - 13s 440ms/step - loss: 0.4928 - accuracy: 0.8500 - val_loss: 0.7887 - val_accuracy: 0.7646\n",
            "Epoch 87/100\n",
            "30/30 [==============================] - 13s 436ms/step - loss: 0.4537 - accuracy: 0.8562 - val_loss: 0.8984 - val_accuracy: 0.7625\n",
            "Epoch 88/100\n",
            "30/30 [==============================] - 13s 440ms/step - loss: 0.3933 - accuracy: 0.8833 - val_loss: 0.6543 - val_accuracy: 0.7854\n",
            "Epoch 89/100\n",
            "30/30 [==============================] - 13s 437ms/step - loss: 0.3592 - accuracy: 0.8833 - val_loss: 0.6849 - val_accuracy: 0.8104\n",
            "Epoch 90/100\n",
            "30/30 [==============================] - 13s 440ms/step - loss: 0.4852 - accuracy: 0.8438 - val_loss: 0.6416 - val_accuracy: 0.8083\n",
            "Epoch 91/100\n",
            "30/30 [==============================] - 13s 435ms/step - loss: 0.4475 - accuracy: 0.8583 - val_loss: 0.6514 - val_accuracy: 0.7979\n",
            "Epoch 92/100\n",
            "30/30 [==============================] - 13s 437ms/step - loss: 0.4675 - accuracy: 0.8375 - val_loss: 0.5581 - val_accuracy: 0.8292\n",
            "Epoch 93/100\n",
            "30/30 [==============================] - 13s 433ms/step - loss: 0.4072 - accuracy: 0.8831 - val_loss: 0.9346 - val_accuracy: 0.7458\n",
            "Epoch 94/100\n",
            "30/30 [==============================] - 13s 434ms/step - loss: 0.4663 - accuracy: 0.8521 - val_loss: 0.9073 - val_accuracy: 0.7312\n",
            "Epoch 95/100\n",
            "30/30 [==============================] - 13s 436ms/step - loss: 0.4608 - accuracy: 0.8417 - val_loss: 0.8596 - val_accuracy: 0.7750\n",
            "Epoch 96/100\n",
            "30/30 [==============================] - 13s 431ms/step - loss: 0.4361 - accuracy: 0.8521 - val_loss: 0.5091 - val_accuracy: 0.8500\n",
            "Epoch 97/100\n",
            "30/30 [==============================] - 13s 437ms/step - loss: 0.4241 - accuracy: 0.8542 - val_loss: 1.0490 - val_accuracy: 0.7396\n",
            "Epoch 98/100\n",
            "30/30 [==============================] - 13s 437ms/step - loss: 0.4738 - accuracy: 0.8479 - val_loss: 0.7407 - val_accuracy: 0.7917\n",
            "Epoch 99/100\n",
            "30/30 [==============================] - 13s 438ms/step - loss: 0.4000 - accuracy: 0.8604 - val_loss: 0.6026 - val_accuracy: 0.8208\n",
            "Epoch 100/100\n",
            "30/30 [==============================] - 13s 436ms/step - loss: 0.4191 - accuracy: 0.8708 - val_loss: 0.9419 - val_accuracy: 0.7667\n"
          ]
        }
      ]
    },
    {
      "cell_type": "code",
      "metadata": {
        "id": "V7lgOj7kzsLi"
      },
      "source": [
        "# AFTER 19 EPOCHS THE VALֹֹ_ACCURACY reached 66 %"
      ],
      "id": "V7lgOj7kzsLi",
      "execution_count": null,
      "outputs": []
    },
    {
      "cell_type": "code",
      "metadata": {
        "id": "DY7bsHXmU8Qj"
      },
      "source": [
        "model.save_weights('weights.h5')"
      ],
      "id": "DY7bsHXmU8Qj",
      "execution_count": 8,
      "outputs": []
    },
    {
      "cell_type": "code",
      "metadata": {
        "id": "-JHrOYTl41pJ"
      },
      "source": [
        "model.save_weights(\"drive/MyDrive/Splited_Data_Sample/model_weights.h5\")"
      ],
      "id": "-JHrOYTl41pJ",
      "execution_count": 9,
      "outputs": []
    },
    {
      "cell_type": "code",
      "metadata": {
        "id": "bwLnmTYb6Y5R"
      },
      "source": [
        "torch.save(model.save, 'drive/MyDrive/Splited_Data_Sample/get_weights.pth')"
      ],
      "id": "bwLnmTYb6Y5R",
      "execution_count": null,
      "outputs": []
    },
    {
      "cell_type": "code",
      "metadata": {
        "colab": {
          "base_uri": "https://localhost:8080/"
        },
        "id": "J-09qCwz47-G",
        "outputId": "337c9ead-7f05-4508-f09a-1d367732a8b9"
      },
      "source": [
        "torch.save(model.save, 'drive/MyDrive/Splited_Data_Sample/model_sab.pth')"
      ],
      "id": "J-09qCwz47-G",
      "execution_count": 21,
      "outputs": [
        {
          "output_type": "stream",
          "name": "stdout",
          "text": [
            "INFO:tensorflow:Assets written to: ram://53e779a4-ff2d-4b33-9b0b-28f01c8d5a4d/assets\n"
          ]
        }
      ]
    },
    {
      "cell_type": "code",
      "metadata": {
        "colab": {
          "base_uri": "https://localhost:8080/",
          "height": 300
        },
        "id": "GeQOaJfc6g3S",
        "outputId": "80b8830a-676c-4295-9beb-243fb610aaea"
      },
      "source": [
        "plot_perfomance(history)"
      ],
      "id": "GeQOaJfc6g3S",
      "execution_count": 20,
      "outputs": [
        {
          "output_type": "display_data",
          "data": {
            "image/png": "[encoded data removed]",
            "text/plain": [
              "<Figure size 1008x288 with 2 Axes>"
            ]
          },
          "metadata": {
            "needs_background": "light"
          }
        }
      ]
    }
  ]
}
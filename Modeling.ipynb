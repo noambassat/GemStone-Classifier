{
 "cells": [
  {
   "cell_type": "markdown",
   "id": "04b4d979",
   "metadata": {},
   "source": [
    "<h1> Imports </h1>"
   ]
  },
  {
   "cell_type": "code",
   "execution_count": 17,
   "id": "bd79bd36",
   "metadata": {},
   "outputs": [],
   "source": [
    "from tensorflow.keras.layers import Dense, Conv2D, MaxPooling2D, Flatten, Dropout,BatchNormalization\n",
    "from tensorflow.keras.preprocessing.image import ImageDataGenerator\n",
    "from tensorflow.keras.preprocessing import image\n",
    "from tensorflow.keras.optimizers import RMSprop\n",
    "from tensorflow.keras.models import Sequential\n",
    "from sklearn.metrics import confusion_matrix\n",
    "from matplotlib.colors import ListedColormap\n",
    "\n",
    "from tensorflow.keras import layers\n",
    "from sklearn.manifold import TSNE\n",
    "import matplotlib.pyplot as plt\n",
    "from tensorflow import keras\n",
    "from seaborn import heatmap\n",
    "from matplotlib import cm\n",
    "import tensorflow as tf\n",
    "import pandas as pd\n",
    "import numpy as np\n",
    "import splitfolders\n",
    "import itertools\n",
    "import cv2\n",
    "import os\n"
   ]
  },
  {
   "cell_type": "markdown",
   "id": "7eec738c",
   "metadata": {},
   "source": [
    "<h1> Split the data </h1>"
   ]
  },
  {
   "cell_type": "code",
   "execution_count": 20,
   "id": "01c4f634",
   "metadata": {},
   "outputs": [],
   "source": [
    "input_folder = 'Data'\n",
    "output_folder = 'Splited_Data'\n",
    "splitfolders.ratio(input_folder, output_folder,\n",
    "                   seed=random, ratio=(.7,.2,.1),\n",
    "                   group_prefix = None) #splited into train test an validation, can be splited into only 2 "
   ]
  },
  {
   "cell_type": "markdown",
   "id": "a141f6ab",
   "metadata": {},
   "source": [
    "<h1> Read Train and Test sets </h1>"
   ]
  },
  {
   "cell_type": "code",
   "execution_count": 40,
   "id": "769ec571",
   "metadata": {},
   "outputs": [
    {
     "name": "stdout",
     "output_type": "stream",
     "text": [
      "Found 2752 images belonging to 94 classes.\n",
      "Found 412 images belonging to 94 classes.\n"
     ]
    }
   ],
   "source": [
    "Rescale = ImageDataGenerator(rescale=1./255,\n",
    "                            rotation_range=40,horizontal_flip=True,zoom_range=0.2,height_shift_range=0.2,width_shift_range=0.2,fill_mode='nearest')\n",
    "train_dataset =Rescale.flow_from_directory('Splited_Data/train',\n",
    "                                          target_size=(150,150),\n",
    "                                          batch_size=3,\n",
    "                                          class_mode='categorical')\n",
    "train_dataset =Rescale.flow_from_directory('Splited_Data/test',\n",
    "                                          target_size=(150,150),\n",
    "                                          batch_size=3,\n",
    "                                          class_mode='categorical')"
   ]
  },
  {
   "cell_type": "code",
   "execution_count": 28,
   "id": "9a09cae0",
   "metadata": {},
   "outputs": [],
   "source": [
    "# train_dataset.class_indices\n",
    "# train_dataset.classes"
   ]
  },
  {
   "cell_type": "code",
   "execution_count": 41,
   "id": "6d582d7f",
   "metadata": {},
   "outputs": [
    {
     "data": {
      "text/plain": [
       "<keras.preprocessing.image.DirectoryIterator at 0x1b13c221d00>"
      ]
     },
     "execution_count": 41,
     "metadata": {},
     "output_type": "execute_result"
    }
   ],
   "source": [
    "# Data Augmentation !!!!!"
   ]
  },
  {
   "cell_type": "code",
   "execution_count": null,
   "id": "ab21624e",
   "metadata": {},
   "outputs": [],
   "source": []
  }
 ],
 "metadata": {
  "kernelspec": {
   "display_name": "Python 3 (ipykernel)",
   "language": "python",
   "name": "python3"
  },
  "language_info": {
   "codemirror_mode": {
    "name": "ipython",
    "version": 3
   },
   "file_extension": ".py",
   "mimetype": "text/x-python",
   "name": "python",
   "nbconvert_exporter": "python",
   "pygments_lexer": "ipython3",
   "version": "3.9.0"
  }
 },
 "nbformat": 4,
 "nbformat_minor": 5
}
